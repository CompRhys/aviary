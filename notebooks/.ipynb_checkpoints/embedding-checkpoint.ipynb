{
 "cells": [
  {
   "cell_type": "markdown",
   "metadata": {},
   "source": [
    "# Example use of sampnn.embeddings\n",
    "## Import libraries"
   ]
  },
  {
   "cell_type": "code",
   "execution_count": 1,
   "metadata": {
    "ExecuteTime": {
     "end_time": "2019-03-21T13:44:47.938002Z",
     "start_time": "2019-03-21T13:44:47.117993Z"
    }
   },
   "outputs": [],
   "source": [
    "import sampnn.embeddings as emb"
   ]
  },
  {
   "cell_type": "markdown",
   "metadata": {},
   "source": [
    "## Atom Embedding\n",
    "\n",
    "Atom embeddings take the form of a dictionary of 1d arrays where the key is the element.\n",
    "\n",
    "We call the object AtomEmbedding and give it the path to a data directory, the data directory should have the following structure:\n",
    "\n",
    "```bash\n",
    "atom_data_dir/\n",
    "|-- fea1/\n",
    "|   |-- fea1.csv\n",
    "|   |-- meta.json\n",
    "|   fea2/\n",
    "|   |-- fea2.csv\n",
    "|   |-- meta.json\n",
    "    ...\n",
    "```\n",
    "\n",
    "After this the routine AtomEmbedding.construct_embedding() takes a list of features `['fea1','fea2']` and uses them to construct an embedding from the data. Additional details about whether or not to take a OneHot or Gaussian expansion can be included in the meta file."
   ]
  },
  {
   "cell_type": "code",
   "execution_count": 4,
   "metadata": {
    "ExecuteTime": {
     "end_time": "2019-03-21T17:32:02.326278Z",
     "start_time": "2019-03-21T17:32:02.297828Z"
    }
   },
   "outputs": [
    {
     "name": "stdout",
     "output_type": "stream",
     "text": [
      "Electronegativity: number of steps not given for feature expansion, using default value of 5\n",
      "Electronegativity: fmax not specified, using maximum as default\n",
      "Polarizability: number of steps not given for feature expansion, using default value of 5\n",
      "Polarizability: fmin not specified, using minimum as default\n",
      "Polarizability: fmax not specified, using maximum as default\n"
     ]
    }
   ],
   "source": [
    "features = ['Electronegativity',\n",
    "            'Polarizability']\n",
    "atom = emb.AtomEmbedding('/home/rhys/work/sampnn/data/atom_data/')\n",
    "atom.construct_embedding(features)\n",
    "atom.save_embedding('/home/rhys/work/sampnn/data/','atom_fea.json')"
   ]
  },
  {
   "cell_type": "markdown",
   "metadata": {
    "ExecuteTime": {
     "end_time": "2019-03-21T13:11:51.469686Z",
     "start_time": "2019-03-21T13:11:51.463304Z"
    }
   },
   "source": [
    "## Bond Embedding\n",
    "\n",
    "Atom embeddings take the form of a dictionary of 1d arrays where the key is the concatenation of the two elements.\n",
    "\n",
    "We call the object BondEmbedding and give it the path to a data directory, the data directory should have the following structure:\n",
    "\n",
    "```bash\n",
    "bond_data_dir/\n",
    "|-- Electronegativity.csv\n",
    "    ...\n",
    "```\n",
    "    \n",
    "After this the routine BondEmbedding.construct_embedding() is called returning a dictionary of the average and difference of the electronegativities. Further work may allow these to be expanded into bond classes using the Van Arkel-Ketelaar triangle."
   ]
  },
  {
   "cell_type": "code",
   "execution_count": 3,
   "metadata": {
    "ExecuteTime": {
     "end_time": "2019-03-21T13:44:48.216038Z",
     "start_time": "2019-03-21T13:44:48.022657Z"
    }
   },
   "outputs": [],
   "source": [
    "bond = emb.BondEmbedding('/home/rhys/work/sampnn/data/bond_data/')\n",
    "bond.construct_embedding()\n",
    "bond.save_embedding('/home/rhys/work/sampnn/data/','bond_fea.json')"
   ]
  }
 ],
 "metadata": {
  "kernelspec": {
   "display_name": "Python 3",
   "language": "python",
   "name": "python3"
  },
  "language_info": {
   "codemirror_mode": {
    "name": "ipython",
    "version": 3
   },
   "file_extension": ".py",
   "mimetype": "text/x-python",
   "name": "python",
   "nbconvert_exporter": "python",
   "pygments_lexer": "ipython3",
   "version": "3.6.8"
  },
  "toc": {
   "base_numbering": 1,
   "nav_menu": {},
   "number_sections": true,
   "sideBar": true,
   "skip_h1_title": false,
   "title_cell": "Table of Contents",
   "title_sidebar": "Contents",
   "toc_cell": false,
   "toc_position": {},
   "toc_section_display": true,
   "toc_window_display": false
  }
 },
 "nbformat": 4,
 "nbformat_minor": 2
}
