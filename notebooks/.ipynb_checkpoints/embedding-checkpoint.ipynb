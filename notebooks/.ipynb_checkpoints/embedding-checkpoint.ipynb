{
 "cells": [
  {
   "cell_type": "markdown",
   "metadata": {},
   "source": [
    "# Example use of sampnn.embeddings\n",
    "## Import libraries"
   ]
  },
  {
   "cell_type": "code",
   "execution_count": 9,
   "metadata": {
    "ExecuteTime": {
     "end_time": "2019-03-21T13:31:32.629880Z",
     "start_time": "2019-03-21T13:31:32.626013Z"
    }
   },
   "outputs": [],
   "source": [
    "import sampnn.embeddings as emb"
   ]
  },
  {
   "cell_type": "markdown",
   "metadata": {},
   "source": [
    "## Atom Embedding\n",
    "\n",
    "Atom embeddings take the form of a dictionary of 1d arrays where the key is the element.\n",
    "\n",
    "We call the object AtomEmbedding and give it the path to a data directory, the data directory should have the following structure:\n",
    "\n",
    "```python\n",
    "data_dir/\n",
    "|-- fea1/\n",
    "|   |-- fea1.csv\n",
    "|   |-- meta.json\n",
    "|   fea2/\n",
    "|   |-- fea2.csv\n",
    "|   |-- meta.json\n",
    "    ...\n",
    "```\n",
    "\n",
    "After this the routine AtomEmbedding.construct_embedding() takes a list of features `['fea1','fea2']` and uses them to construct an embedding from the data. Additional details about whether or not to take a OneHot or Gaussian expansion can be included in the meta file."
   ]
  },
  {
   "cell_type": "code",
   "execution_count": 10,
   "metadata": {
    "ExecuteTime": {
     "end_time": "2019-03-21T13:31:34.581047Z",
     "start_time": "2019-03-21T13:31:34.519169Z"
    }
   },
   "outputs": [
    {
     "name": "stdout",
     "output_type": "stream",
     "text": [
      "/home/rhys/work/sampnn/data/atom_data/\n",
      "number of steps not given for feature expansion, using default value of 5\n",
      "{'expand': 'gaussian', 'fmin': 0.7, 'steps': 5, 'fmax': 3.98}\n",
      "number of steps not given for feature expansion, using default value of 5\n",
      "{'expand': 'onehot', 'steps': 5, 'fmin': 0.205052, 'fmax': 59.42}\n"
     ]
    }
   ],
   "source": [
    "features = ['Electronegativity','Group','Period','CovalentRadius',\n",
    "            'Polarizability','FirstIonizationEnergy','ElectronAffinity',\n",
    "            'AtomicWeight']\n",
    "atom = emb.AtomEmbedding('/home/rhys/work/sampnn/data/atom_data/')\n",
    "atom.construct_embedding(features)\n",
    "atom.save_embedding('/home/rhys/work/sampnn/data/','atom_fea.json')"
   ]
  },
  {
   "cell_type": "markdown",
   "metadata": {
    "ExecuteTime": {
     "end_time": "2019-03-21T13:11:51.469686Z",
     "start_time": "2019-03-21T13:11:51.463304Z"
    }
   },
   "source": [
    "## Bond Embedding"
   ]
  },
  {
   "cell_type": "code",
   "execution_count": 11,
   "metadata": {
    "ExecuteTime": {
     "end_time": "2019-03-21T13:39:04.250611Z",
     "start_time": "2019-03-21T13:39:04.231434Z"
    }
   },
   "outputs": [
    {
     "ename": "TypeError",
     "evalue": "__init__() missing 1 required positional argument: 'data_dir'",
     "output_type": "error",
     "traceback": [
      "\u001b[0;31m---------------------------------------------------------------------------\u001b[0m",
      "\u001b[0;31mTypeError\u001b[0m                                 Traceback (most recent call last)",
      "\u001b[0;32m<ipython-input-11-78be3c004291>\u001b[0m in \u001b[0;36m<module>\u001b[0;34m\u001b[0m\n\u001b[0;32m----> 1\u001b[0;31m \u001b[0mbond\u001b[0m \u001b[0;34m=\u001b[0m \u001b[0memb\u001b[0m\u001b[0;34m.\u001b[0m\u001b[0mBondEmbedding\u001b[0m\u001b[0;34m(\u001b[0m\u001b[0;34m)\u001b[0m\u001b[0;34m\u001b[0m\u001b[0;34m\u001b[0m\u001b[0m\n\u001b[0m\u001b[1;32m      2\u001b[0m \u001b[0mbond\u001b[0m\u001b[0;34m.\u001b[0m\u001b[0mconstruct_embedding\u001b[0m\u001b[0;34m(\u001b[0m\u001b[0;34m)\u001b[0m\u001b[0;34m\u001b[0m\u001b[0;34m\u001b[0m\u001b[0m\n\u001b[1;32m      3\u001b[0m \u001b[0mbond\u001b[0m\u001b[0;34m.\u001b[0m\u001b[0msave_embedding\u001b[0m\u001b[0;34m(\u001b[0m\u001b[0;34m'/home/rhys/work/sampnn/data/'\u001b[0m\u001b[0;34m,\u001b[0m\u001b[0;34m'bond_fea.json'\u001b[0m\u001b[0;34m)\u001b[0m\u001b[0;34m\u001b[0m\u001b[0;34m\u001b[0m\u001b[0m\n",
      "\u001b[0;31mTypeError\u001b[0m: __init__() missing 1 required positional argument: 'data_dir'"
     ]
    }
   ],
   "source": [
    "bond = emb.BondEmbedding('/home/rhys/work/sampnn/data/bond_data/')\n",
    "bond.construct_embedding()\n",
    "bond.save_embedding('/home/rhys/work/sampnn/data/','bond_fea.json')"
   ]
  }
 ],
 "metadata": {
  "kernelspec": {
   "display_name": "Python 3",
   "language": "python",
   "name": "python3"
  },
  "language_info": {
   "codemirror_mode": {
    "name": "ipython",
    "version": 3
   },
   "file_extension": ".py",
   "mimetype": "text/x-python",
   "name": "python",
   "nbconvert_exporter": "python",
   "pygments_lexer": "ipython3",
   "version": "3.6.8"
  },
  "toc": {
   "base_numbering": 1,
   "nav_menu": {},
   "number_sections": true,
   "sideBar": true,
   "skip_h1_title": false,
   "title_cell": "Table of Contents",
   "title_sidebar": "Contents",
   "toc_cell": false,
   "toc_position": {},
   "toc_section_display": true,
   "toc_window_display": false
  }
 },
 "nbformat": 4,
 "nbformat_minor": 2
}
