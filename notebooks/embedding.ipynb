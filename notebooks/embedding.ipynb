{
 "cells": [
  {
   "cell_type": "markdown",
   "metadata": {},
   "source": [
    "# Example use of sampnn.embeddings\n",
    "## Import libraries"
   ]
  },
  {
   "cell_type": "code",
   "execution_count": 1,
   "metadata": {
    "ExecuteTime": {
     "end_time": "2019-03-21T13:42:49.192625Z",
     "start_time": "2019-03-21T13:42:48.575397Z"
    }
   },
   "outputs": [],
   "source": [
    "import sampnn.embeddings as emb"
   ]
  },
  {
   "cell_type": "markdown",
   "metadata": {},
   "source": [
    "## Atom Embedding\n",
    "\n",
    "Atom embeddings take the form of a dictionary of 1d arrays where the key is the element.\n",
    "\n",
    "We call the object AtomEmbedding and give it the path to a data directory, the data directory should have the following structure:\n",
    "\n",
    "```python\n",
    "data_dir/\n",
    "|-- fea1/\n",
    "|   |-- fea1.csv\n",
    "|   |-- meta.json\n",
    "|   fea2/\n",
    "|   |-- fea2.csv\n",
    "|   |-- meta.json\n",
    "    ...\n",
    "```\n",
    "\n",
    "After this the routine AtomEmbedding.construct_embedding() takes a list of features `['fea1','fea2']` and uses them to construct an embedding from the data. Additional details about whether or not to take a OneHot or Gaussian expansion can be included in the meta file."
   ]
  },
  {
   "cell_type": "code",
   "execution_count": 2,
   "metadata": {
    "ExecuteTime": {
     "end_time": "2019-03-21T13:42:49.242483Z",
     "start_time": "2019-03-21T13:42:49.194639Z"
    }
   },
   "outputs": [
    {
     "name": "stdout",
     "output_type": "stream",
     "text": [
      "Electronegativity: number of steps not given for feature expansion, using default value of 5\n",
      "Electronegativity: fmax not specified, using maximum as default\n",
      "Polarizability: number of steps not given for feature expansion, using default value of 5\n",
      "Polarizability: fmin not specified, using minimum as default\n",
      "Polarizability: fmax not specified, using maximum as default\n"
     ]
    }
   ],
   "source": [
    "features = ['Electronegativity','Group','Period','CovalentRadius',\n",
    "            'Polarizability','FirstIonizationEnergy','ElectronAffinity',\n",
    "            'AtomicWeight']\n",
    "atom = emb.AtomEmbedding('/home/rhys/work/sampnn/data/atom_data/')\n",
    "atom.construct_embedding(features)\n",
    "atom.save_embedding('/home/rhys/work/sampnn/data/','atom_fea.json')"
   ]
  },
  {
   "cell_type": "markdown",
   "metadata": {
    "ExecuteTime": {
     "end_time": "2019-03-21T13:11:51.469686Z",
     "start_time": "2019-03-21T13:11:51.463304Z"
    }
   },
   "source": [
    "## Bond Embedding"
   ]
  },
  {
   "cell_type": "code",
   "execution_count": 3,
   "metadata": {
    "ExecuteTime": {
     "end_time": "2019-03-21T13:42:49.379165Z",
     "start_time": "2019-03-21T13:42:49.246770Z"
    }
   },
   "outputs": [
    {
     "ename": "ValueError",
     "evalue": "not enough values to unpack (expected 2, got 1)",
     "output_type": "error",
     "traceback": [
      "\u001b[0;31m---------------------------------------------------------------------------\u001b[0m",
      "\u001b[0;31mValueError\u001b[0m                                Traceback (most recent call last)",
      "\u001b[0;32m<ipython-input-3-78701cd5789d>\u001b[0m in \u001b[0;36m<module>\u001b[0;34m\u001b[0m\n\u001b[1;32m      1\u001b[0m \u001b[0mbond\u001b[0m \u001b[0;34m=\u001b[0m \u001b[0memb\u001b[0m\u001b[0;34m.\u001b[0m\u001b[0mBondEmbedding\u001b[0m\u001b[0;34m(\u001b[0m\u001b[0;34m'/home/rhys/work/sampnn/data/bond_data/'\u001b[0m\u001b[0;34m)\u001b[0m\u001b[0;34m\u001b[0m\u001b[0;34m\u001b[0m\u001b[0m\n\u001b[0;32m----> 2\u001b[0;31m \u001b[0mbond\u001b[0m\u001b[0;34m.\u001b[0m\u001b[0mconstruct_embedding\u001b[0m\u001b[0;34m(\u001b[0m\u001b[0;34m)\u001b[0m\u001b[0;34m\u001b[0m\u001b[0;34m\u001b[0m\u001b[0m\n\u001b[0m\u001b[1;32m      3\u001b[0m \u001b[0mbond\u001b[0m\u001b[0;34m.\u001b[0m\u001b[0msave_embedding\u001b[0m\u001b[0;34m(\u001b[0m\u001b[0;34m'/home/rhys/work/sampnn/data/'\u001b[0m\u001b[0;34m,\u001b[0m\u001b[0;34m'bond_fea.json'\u001b[0m\u001b[0;34m)\u001b[0m\u001b[0;34m\u001b[0m\u001b[0;34m\u001b[0m\u001b[0m\n",
      "\u001b[0;32m~/work/sampnn/sampnn/embeddings.py\u001b[0m in \u001b[0;36mconstruct_embedding\u001b[0;34m(self)\u001b[0m\n\u001b[1;32m    118\u001b[0m         \u001b[0mseries\u001b[0m \u001b[0;34m=\u001b[0m \u001b[0mpd\u001b[0m\u001b[0;34m.\u001b[0m\u001b[0mread_csv\u001b[0m\u001b[0;34m(\u001b[0m\u001b[0mfeature_file\u001b[0m\u001b[0;34m,\u001b[0m \u001b[0mheader\u001b[0m\u001b[0;34m=\u001b[0m\u001b[0;32mNone\u001b[0m\u001b[0;34m,\u001b[0m \u001b[0mindex_col\u001b[0m\u001b[0;34m=\u001b[0m\u001b[0;36m0\u001b[0m\u001b[0;34m,\u001b[0m \u001b[0msqueeze\u001b[0m\u001b[0;34m=\u001b[0m\u001b[0;32mTrue\u001b[0m\u001b[0;34m)\u001b[0m\u001b[0;34m.\u001b[0m\u001b[0mto_dict\u001b[0m\u001b[0;34m(\u001b[0m\u001b[0;34m)\u001b[0m\u001b[0;34m\u001b[0m\u001b[0;34m\u001b[0m\u001b[0m\n\u001b[1;32m    119\u001b[0m \u001b[0;34m\u001b[0m\u001b[0m\n\u001b[0;32m--> 120\u001b[0;31m         \u001b[0;32mfor\u001b[0m \u001b[0mkey_a\u001b[0m\u001b[0;34m,\u001b[0m \u001b[0mvalue_a\u001b[0m \u001b[0;32min\u001b[0m \u001b[0mseries\u001b[0m\u001b[0;34m:\u001b[0m\u001b[0;34m\u001b[0m\u001b[0;34m\u001b[0m\u001b[0m\n\u001b[0m\u001b[1;32m    121\u001b[0m             \u001b[0;32mfor\u001b[0m \u001b[0mkey_b\u001b[0m\u001b[0;34m,\u001b[0m \u001b[0mvalue_b\u001b[0m \u001b[0;32min\u001b[0m \u001b[0mseries\u001b[0m\u001b[0;34m:\u001b[0m\u001b[0;34m\u001b[0m\u001b[0;34m\u001b[0m\u001b[0m\n\u001b[1;32m    122\u001b[0m                 \u001b[0mkey_ab\u001b[0m \u001b[0;34m=\u001b[0m \u001b[0mkey_a\u001b[0m\u001b[0;34m+\u001b[0m\u001b[0mkey_b\u001b[0m\u001b[0;34m\u001b[0m\u001b[0;34m\u001b[0m\u001b[0m\n",
      "\u001b[0;31mValueError\u001b[0m: not enough values to unpack (expected 2, got 1)"
     ]
    }
   ],
   "source": [
    "bond = emb.BondEmbedding('/home/rhys/work/sampnn/data/bond_data/')\n",
    "bond.construct_embedding()\n",
    "bond.save_embedding('/home/rhys/work/sampnn/data/','bond_fea.json')"
   ]
  }
 ],
 "metadata": {
  "kernelspec": {
   "display_name": "Python 3",
   "language": "python",
   "name": "python3"
  },
  "language_info": {
   "codemirror_mode": {
    "name": "ipython",
    "version": 3
   },
   "file_extension": ".py",
   "mimetype": "text/x-python",
   "name": "python",
   "nbconvert_exporter": "python",
   "pygments_lexer": "ipython3",
   "version": "3.6.8"
  },
  "toc": {
   "base_numbering": 1,
   "nav_menu": {},
   "number_sections": true,
   "sideBar": true,
   "skip_h1_title": false,
   "title_cell": "Table of Contents",
   "title_sidebar": "Contents",
   "toc_cell": false,
   "toc_position": {},
   "toc_section_display": true,
   "toc_window_display": false
  }
 },
 "nbformat": 4,
 "nbformat_minor": 2
}
